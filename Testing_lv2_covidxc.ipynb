{
 "cells": [
  {
   "cell_type": "code",
   "execution_count": null,
   "metadata": {},
   "outputs": [],
   "source": [
    " import gzip\n",
    "import numpy as np\n",
    "import pandas as pd\n",
    "from time import time\n",
    "import seaborn as sns\n",
    "from sklearn.model_selection import train_test_split\n",
    "from sklearn import metrics\n",
    "import tensorflow as tf\n",
    "import keras\n",
    "import keras.layers as layers\n",
    "from keras.models import Sequential\n",
    "from keras.preprocessing.image import ImageDataGenerator\n",
    "from keras.utils.np_utils import to_categorical\n",
    "from keras.callbacks import TensorBoard\n",
    "\n",
    "%matplotlib inline\n",
    "import matplotlib.pyplot as plt\n",
    "import seaborn as sns\n",
    "sns.set()\n",
    "\n",
    "import pickle\n",
    "model_l1 = pickle.load(open('/content/drive/My Drive/CART L2 D.sav', 'rb'))\n",
    "model_l2 = pickle.load(open('/content/drive/My Drive/KNN L2 D.sav', 'rb'))\n",
    "model_l3 = pickle.load(open('/content/drive/My Drive/LR L2 D.sav', 'rb'))\n",
    "model_l4 = pickle.load(open('/content/drive/My Drive/RF L2 D.sav', 'rb'))\n",
    "model_l5 = pickle.load(open('/content/drive/My Drive/XGB L2 D.sav', 'rb'))"
   ]
  },
  {
   "cell_type": "code",
   "execution_count": null,
   "metadata": {},
   "outputs": [],
   "source": [
    "df=pd.read_csv('/content/drive/My Drive/level1 test_v3.csv')\n",
    "df.columns\n",
    "df=df.drop(columns=['Unnamed: 0'])\n",
    "X1=df.iloc[:,0:25088]\n",
    "y1=df['Label']\n",
    "\n",
    "df"
   ]
  },
  {
   "cell_type": "code",
   "execution_count": null,
   "metadata": {},
   "outputs": [],
   "source": [
    "X1"
   ]
  },
  {
   "cell_type": "code",
   "execution_count": null,
   "metadata": {},
   "outputs": [],
   "source": [
    "from sklearn.metrics import precision_recall_curve\n",
    "\n",
    "\n",
    "y1_l1_pred= model_l1.predict(X1)\n",
    "print(metrics.classification_report(y1,y1_l1_pred))\n",
    "\n",
    "cart_precision, cart_recall, _ = precision_recall_curve(y1,y1_l1_pred)\n",
    "plt.plot(cart_recall, cart_precision, marker='.', label='CART')\n",
    "plt.xlabel('Recall')\n",
    "plt.ylabel('Precision')\n",
    "plt.show()\n",
    "\n",
    "y1_l2_pred= model_l2.predict(X1)\n",
    "print(metrics.classification_report(y1,y1_l2_pred))\n",
    "\n",
    "knn_precision, knn_recall, _ = precision_recall_curve(y1,y1_l2_pred)\n",
    "plt.plot(knn_recall, knn_precision, marker='.', label='kNN')\n",
    "plt.xlabel('Recall')\n",
    "plt.ylabel('Precision')\n",
    "plt.show()\n",
    "\n",
    "y1_l3_pred= model_l3.predict(X1)\n",
    "print(metrics.classification_report(y1,y1_l3_pred))\n"
   ]
  },
  {
   "cell_type": "code",
   "execution_count": null,
   "metadata": {},
   "outputs": [],
   "source": [
    "lr_precision, lr_recall, _ = precision_recall_curve(y1,y1_l3_pred)\n",
    "plt.plot(lr_recall, lr_precision, marker='.', label='LR')\n",
    "plt.xlabel('Recall')\n",
    "plt.ylabel('Precision')\n",
    "plt.show()\n",
    "\n",
    "y1_l4_pred= model_l4.predict(X1)\n",
    "print(metrics.classification_report(y1,y1_l4_pred))\n",
    "\n",
    "rf_precision, rf_recall, _ = precision_recall_curve(y1,y1_l4_pred)\n",
    "plt.plot(rf_recall, rf_precision, marker='.', label='RF')\n",
    "plt.xlabel('Recall')\n",
    "plt.ylabel('Precision')\n",
    "plt.show()\n",
    "\n",
    "y1_l5_pred= model_l5.predict(X1)\n",
    "print(metrics.classification_report(y1,y1_l5_pred))"
   ]
  },
  {
   "cell_type": "code",
   "execution_count": null,
   "metadata": {},
   "outputs": [],
   "source": [
    "xgb_precision, xgb_recall, _ = precision_recall_curve(y1,y1_l5_pred)\n",
    "plt.plot(xgb_recall, xgb_precision, marker='.', label='XGB')\n",
    "plt.xlabel('Recall')\n",
    "plt.ylabel('Precision')\n",
    "plt.legend()\n",
    "plt.show()\n",
    "\n",
    "tn, fp, fn, tp = metrics.confusion_matrix(y1,y1_l3_pred).ravel()"
   ]
  },
  {
   "cell_type": "code",
   "execution_count": null,
   "metadata": {},
   "outputs": [],
   "source": [
    "print(tn,tp,fp,fn)\n",
    "df['predicted']=y1_l3_pred\n",
    "ddf_new=df.loc[df['predicted'] == 1]\n",
    "df_new\n",
    "np.unique(df_new['id'])\n",
    "df1=pd.read_csv('/content/drive/My Drive/level2 test_v2.csv')\n",
    "df1=df1.drop(columns=['Unnamed: 0'])\n",
    "df_new['Label'].dtype\n",
    "new_label=[]\n",
    "for ind in df_new.index: \n",
    "  x=df_new['id'][ind]\n",
    "  pred=df1.loc[df1['id'] == x, 'Label'].iloc[0]\n",
    "  # print(pred.dtype)\n",
    "  new_label.append(pred)\n",
    "\n",
    "df_new=df_new.drop(columns=['Label','predicted'])\n",
    "df_new['Label']=new_label\n",
    "df_new=df_new.drop(columns=['id'])\n",
    "df_new.to_csv('/content/drive/My Drive/level 2 test final.csv')"
   ]
  }
 ],
 "metadata": {
  "kernelspec": {
   "display_name": "Python 3",
   "language": "python",
   "name": "python3"
  },
  "language_info": {
   "codemirror_mode": {
    "name": "ipython",
    "version": 3
   },
   "file_extension": ".py",
   "mimetype": "text/x-python",
   "name": "python",
   "nbconvert_exporter": "python",
   "pygments_lexer": "ipython3",
   "version": "3.8.3"
  }
 },
 "nbformat": 4,
 "nbformat_minor": 4
}
