{
 "cells": [
  {
   "cell_type": "code",
   "execution_count": null,
   "metadata": {},
   "outputs": [],
   "source": [
    "import matplotlib.pyplot as plt\n",
    "\n",
    "from skimage import io\n",
    "import plotly.graph_objects as go\n",
    "from plotly.subplots import make_subplots\n",
    "\n",
    "import pandas as pd\n",
    "import numpy as np\n",
    "import os\n",
    "from glob import glob\n",
    "import itertools\n",
    "import fnmatch\n",
    "import random\n",
    "import matplotlib.pylab as plt\n",
    "import seaborn as sns\n",
    "import cv2\n",
    "\n",
    "import sklearn\n",
    "from sklearn import model_selection\n",
    "from sklearn.model_selection import train_test_split, KFold, cross_val_score, StratifiedKFold, learning_curve, GridSearchCV\n",
    "from sklearn.metrics import confusion_matrix, make_scorer, accuracy_score\n",
    "from sklearn.linear_model import LogisticRegression\n",
    "from sklearn.tree import DecisionTreeClassifier\n",
    "from sklearn.neighbors import KNeighborsClassifier\n",
    "from sklearn.discriminant_analysis import LinearDiscriminantAnalysis\n",
    "from sklearn.naive_bayes import GaussianNB\n",
    "from sklearn.svm import SVC, LinearSVC\n",
    "from sklearn.ensemble import RandomForestClassifier, GradientBoostingClassifier\n",
    "import keras\n",
    "from keras import backend as K\n",
    "from keras.callbacks import Callback, EarlyStopping, ReduceLROnPlateau, ModelCheckpoint\n",
    "from keras.preprocessing.image import ImageDataGenerator\n",
    "from keras.utils.np_utils import to_categorical\n",
    "from keras.models import Sequential, model_from_json\n",
    "from keras.optimizers import SGD, RMSprop, Adam, Adagrad, Adadelta\n",
    "from keras.layers import Dense, Dropout, Activation, Flatten, BatchNormalization, Conv2D, MaxPool2D, MaxPooling2D\n",
    "%matplotlib inline\n",
    "\n",
    "import glob\n",
    "\n",
    "from tqdm.notebook import tqdm\n",
    "tqdm().pandas();\n",
    "\n",
    "\n",
    "from keras.models import Model\n",
    "from keras.applications.vgg19 import VGG19\n",
    "from keras.applications.vgg19 import preprocess_input\n",
    "from keras.preprocessing import image\n",
    "from keras.preprocessing.image import ImageDataGenerator"
   ]
  },
  {
   "cell_type": "code",
   "execution_count": null,
   "metadata": {},
   "outputs": [],
   "source": [
    "import cv2 \n",
    "import os \n",
    "import glob \n",
    " \n",
    "filesx = glob.glob(r\"E:\\######################AML\\#####COVID\\covid_pneumonia_normal\\**\\*.jpg\", recursive=True)\n",
    "x = [] \n",
    "y =[]\n",
    "\n",
    "for f in filesx: \n",
    "    imgx = cv2.imread(f)\n",
    "    x.append(imgx)\n",
    "    y.append(int(f.split(\"\\\\\")[-2])) #string split \"second last is the folder name\"\n",
    "    "
   ]
  },
  {
   "cell_type": "code",
   "execution_count": null,
   "metadata": {},
   "outputs": [],
   "source": [
    "len(x)"
   ]
  },
  {
   "cell_type": "code",
   "execution_count": null,
   "metadata": {},
   "outputs": [],
   "source": [
    "len(y)"
   ]
  },
  {
   "cell_type": "code",
   "execution_count": null,
   "metadata": {},
   "outputs": [],
   "source": [
    "# Single image plotter\n",
    "def plotImage(image_loc):\n",
    "    image=cv2.imread(imgname)\n",
    "    image=cv2.resize(image,(224,224))\n",
    "    plt.imshow(cv2.cvtColor(image, cv2.COLOR_BGR2RGB)); plt.axis('off')\n",
    "    return\n",
    "\n",
    "imgname=r\"E:\\######################AML\\#####COVID\\5k\\Train\\0\\Atelectasis-patient04061-study1-view1_frontal.jpg\"\n",
    "\n",
    "# calling the fn\n",
    "plotImage(imgname)    "
   ]
  },
  {
   "cell_type": "code",
   "execution_count": null,
   "metadata": {},
   "outputs": [],
   "source": [
    "imgbrunch= filesx\n",
    "i_=0\n",
    "\n",
    "# designating pixels \n",
    "plt.rcParams['figure.figsize']=(10.0,10.0)\n",
    "plt.subplots_adjust(wspace=0,hspace=0)\n",
    "\n",
    "for l in filesx[:25]:    # 25 images\n",
    "    im = cv2.imread(l)\n",
    "    im= cv2.resize(im,(224,224))\n",
    "    plt.subplot(5,5,i_+1)  # .set_title(l)\n",
    "    plt.imshow(cv2.cvtColor(im, cv2.COLOR_BGR2RGB)); plt.axis('off')\n",
    "    i_ += 1"
   ]
  },
  {
   "cell_type": "code",
   "execution_count": null,
   "metadata": {},
   "outputs": [],
   "source": [
    "# printing random images\n",
    "\n",
    "def randomImages(a):\n",
    "    r = random.sample(a, 4)\n",
    "    plt.figure(figsize=(16,16))\n",
    "    plt.subplot(131)\n",
    "    plt.imshow(cv2.imread(r[0]))\n",
    "    plt.subplot(132)\n",
    "    plt.imshow(cv2.imread(r[1]))\n",
    "    plt.subplot(133)\n",
    "    plt.imshow(cv2.imread(r[2])); \n",
    "randomImages(filesx)"
   ]
  },
  {
   "cell_type": "code",
   "execution_count": null,
   "metadata": {},
   "outputs": [],
   "source": [
    "filesx"
   ]
  },
  {
   "cell_type": "code",
   "execution_count": null,
   "metadata": {},
   "outputs": [],
   "source": [
    "classZero = []\n",
    "classOne = []\n",
    "\n",
    "for f in filesx:\n",
    "    if int(f.split(\"\\\\\")[-2])==0:\n",
    "        classZero.append(f)\n",
    "    elif int(f.split(\"\\\\\")[-2])==1:\n",
    "         classOne.append(f)        "
   ]
  },
  {
   "cell_type": "code",
   "execution_count": null,
   "metadata": {},
   "outputs": [],
   "source": [
    "len(classZero)"
   ]
  },
  {
   "cell_type": "code",
   "execution_count": null,
   "metadata": {},
   "outputs": [],
   "source": [
    "len(classOne)"
   ]
  },
  {
   "cell_type": "code",
   "execution_count": null,
   "metadata": {},
   "outputs": [],
   "source": [
    "def proc_images(lowerIndex,upperIndex):\n",
    "    \"\"\"\n",
    "    Returns two arrays: \n",
    "        x is an array of resized images\n",
    "        y is an array of labels\n",
    "    \"\"\" \n",
    "    x = []\n",
    "    y = []\n",
    "    WIDTH = 224\n",
    "    HEIGHT = 224\n",
    "    for img in filesx[lowerIndex:upperIndex]:\n",
    "        full_size_image = cv2.imread(img)\n",
    "        img2=cv2.cvtColor(full_size_image,cv2.COLOR_BGR2RGB)\n",
    "        # img2=cv2.cvtColor(img2, cv2.COLOR_RGB2GRAY)\n",
    "    \n",
    "        x.append(cv2.resize(img2, (WIDTH,HEIGHT), interpolation=cv2.INTER_CUBIC))\n",
    "        if img in classZero:\n",
    "            y.append(0)\n",
    "        elif img in classOne:\n",
    "            y.append(1)\n",
    "        else:\n",
    "            return\n",
    "    return x,y"
   ]
  },
  {
   "cell_type": "code",
   "execution_count": null,
   "metadata": {},
   "outputs": [],
   "source": [
    "X,Y = proc_images(0,3166)"
   ]
  },
  {
   "cell_type": "code",
   "execution_count": null,
   "metadata": {},
   "outputs": [],
   "source": [
    "import seaborn as sns\n",
    "sns.countplot(Y)\n",
    "\n",
    "print(len(X))\n",
    "\n",
    "df=pd.DataFrame()\n",
    "df[\"images\"]=X\n",
    "df[\"labels\"]=Y\n",
    "\n",
    "X2=df[\"images\"]\n",
    "Y2=df[\"labels\"]\n",
    "X2=np.array(X2)\n",
    "\n",
    "\n",
    "# df.to_csv(\"covidUD.csv\")\n",
    "imgs0=[]\n",
    "imgs1=[]\n",
    "imgs0 = X2[Y2==0] # (0 = no IDC, 1 = IDC)\n",
    "imgs1 = X2[Y2==1] \n",
    "\n",
    "dict_characters = {0: 'Normal(-)', 1: 'Abnormal(+)'}\n",
    "print(df.head(10))\n",
    "print(\"\")\n",
    "print(dict_characters)"
   ]
  },
  {
   "cell_type": "code",
   "execution_count": null,
   "metadata": {},
   "outputs": [],
   "source": [
    "X=np.array(X)\n",
    "print(X[0].shape)\n",
    "X=X/255.0 "
   ]
  },
  {
   "cell_type": "code",
   "execution_count": null,
   "metadata": {},
   "outputs": [],
   "source": [
    "import numpy as np\n",
    "from keras import layers\n",
    "from keras.layers import Input, Dense, Activation, ZeroPadding2D, BatchNormalization, Flatten, Conv2D, Reshape \n",
    "from keras.layers import AveragePooling2D, MaxPooling2D, Dropout, GlobalMaxPooling2D, GlobalAveragePooling2D\n",
    "from keras.models import Model\n",
    "from keras.preprocessing import image\n",
    "from keras.utils import layer_utils\n",
    "from keras.utils.data_utils import get_file\n",
    "from keras.applications.imagenet_utils import preprocess_input\n",
    "import pydot\n",
    "from IPython.display import SVG\n",
    "from keras.utils.vis_utils import model_to_dot\n",
    "from keras.utils import plot_model\n",
    "import keras.backend as K\n",
    "\n",
    "from IPython.display import SVG\n",
    "from keras.utils.vis_utils import model_to_dot\n",
    "from keras.utils import plot_model\n",
    "\n",
    "import keras.backend as K\n",
    "K.set_image_data_format('channels_last')\n",
    "import matplotlib.pyplot as plt\n",
    "from matplotlib.pyplot import imshow\n",
    "\n",
    "%matplotlib inline\n",
    "\n",
    "print(IMAGE_SIZE = [224, 224])\n"
   ]
  },
  {
   "cell_type": "code",
   "execution_count": null,
   "metadata": {},
   "outputs": [],
   "source": [
    "vgg = VGG19(input_shape=IMAGE_SIZE + [3], weights='imagenet', include_top=False)\n",
    "vgg.summary()"
   ]
  },
  {
   "cell_type": "code",
   "execution_count": null,
   "metadata": {},
   "outputs": [],
   "source": [
    "for layer in vgg.layers:\n",
    "  layer.trainable = False"
   ]
  },
  {
   "cell_type": "code",
   "execution_count": 1,
   "metadata": {},
   "outputs": [],
   "source": [
    "# Feature Extraction utlizing VGG-19"
   ]
  },
  {
   "cell_type": "code",
   "execution_count": null,
   "metadata": {},
   "outputs": [],
   "source": [
    "# Single image\n",
    "\n",
    "img_path=r\"E:\\######################AML\\#####COVID\\5k\\Train\\0\\Atelectasis-patient04061-study1-view1_frontal.jpg\"\n",
    "\n",
    "img = image.load_img(img_path, target_size=(224, 224))\n",
    "x = image.img_to_array(img)\n",
    "x = np.expand_dims(x, axis=0)\n",
    "x = preprocess_input(x)\n",
    "fea = vgg.predict(x)\n",
    "fea = fea.flatten() \n",
    "fea.shape"
   ]
  },
  {
   "cell_type": "code",
   "execution_count": null,
   "metadata": {},
   "outputs": [],
   "source": [
    "XF=[]\n",
    "for f in filesx:\n",
    "    imgx = image.load_img(f, target_size=(224, 224))\n",
    "    x = image.img_to_array(imgx)\n",
    "    x = np.expand_dims(x, axis=0)\n",
    "    x = preprocess_input(x)\n",
    "    XF.append(x)\n",
    "    \n",
    "print(XF[2].shape)\n",
    "nn=len(XF)\n",
    "nn\n",
    "\n",
    "fx=[]\n",
    "\n",
    "for f in XF:\n",
    "    features = vgg.predict(f)\n",
    "    features=features.flatten()\n",
    "    fx.append(features)\n",
    "    \n",
    "print(len(fx))\n",
    "\n",
    "print(fx)\n",
    "print(fx[0].shape)\n",
    "print(len(fx))\n",
    "print(len(Y))\n",
    "fx=np.array(fx)\n",
    "\n",
    "colx=[]\n",
    "for i in range(25088):\n",
    "    colx.append('x'+str(i))\n",
    "    \n",
    "colx"
   ]
  },
  {
   "cell_type": "code",
   "execution_count": null,
   "metadata": {},
   "outputs": [],
   "source": [
    "len(colx)\n",
    "dfxa=pd.DataFrame(data=fx, columns =colx)\n",
    "dfxa.to_csv(\"Extracted_featuresvgg19.csv\")\n",
    "dfxa.describe()\n",
    "dfxa.head()"
   ]
  }
 ],
 "metadata": {
  "kernelspec": {
   "display_name": "Python 3",
   "language": "python",
   "name": "python3"
  },
  "language_info": {
   "codemirror_mode": {
    "name": "ipython",
    "version": 3
   },
   "file_extension": ".py",
   "mimetype": "text/x-python",
   "name": "python",
   "nbconvert_exporter": "python",
   "pygments_lexer": "ipython3",
   "version": "3.8.3"
  }
 },
 "nbformat": 4,
 "nbformat_minor": 4
}
